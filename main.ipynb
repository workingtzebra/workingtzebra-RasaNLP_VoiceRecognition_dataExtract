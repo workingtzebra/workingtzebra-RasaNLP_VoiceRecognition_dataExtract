{
 "cells": [
  {
   "cell_type": "code",
   "execution_count": 1,
   "metadata": {},
   "outputs": [],
   "source": [
    "import os\n",
    "import wave\n",
    "import json\n",
    "from vosk import Model, KaldiRecognizer\n",
    "import spacy\n",
    "from spacy.matcher import Matcher\n",
    "\n",
    "# Check if the Vosk model exists.\n",
    "model_path = \"model\"\n",
    "if not os.path.exists(model_path):\n",
    "    print(f\"Please download the Vosk model and unpack it as '{model_path}' in the current folder.\")\n",
    "    exit(1)\n",
    "\n",
    "# Initialize Vosk model\n",
    "model = Model(model_path)"
   ]
  },
  {
   "cell_type": "code",
   "execution_count": 2,
   "metadata": {},
   "outputs": [],
   "source": [
    "# Function to transcribe audio\n",
    "def transcribe_audio(file_path):\n",
    "    with wave.open(file_path, \"rb\") as wf:\n",
    "        recognizer = KaldiRecognizer(model, wf.getframerate())\n",
    "        recognizer.SetWords(True)\n",
    "\n",
    "        while True:\n",
    "            data = wf.readframes(4000)\n",
    "            if len(data) == 0:\n",
    "                break\n",
    "            if recognizer.AcceptWaveform(data):\n",
    "                pass\n",
    "\n",
    "        # Get the final result\n",
    "        result = recognizer.FinalResult()\n",
    "        result_json = json.loads(result)\n",
    "        return result_json.get(\"text\", \"\")\n",
    "\n",
    "# Function to extract dates and times using spaCy\n",
    "def extract_date_time(text):\n",
    "    nlp = spacy.load(\"en_core_web_sm\")\n",
    "    doc = nlp(text)\n",
    "\n",
    "    dates = [ent.text for ent in doc.ents if ent.label_ == \"DATE\"]\n",
    "    times = [ent.text for ent in doc.ents if ent.label_ == \"TIME\"]\n",
    "\n",
    "    return dates, times\n",
    "\n",
    "# Path to the audio file (WAV format)\n",
    "audio_file_path = \"audio2.wav\""
   ]
  },
  {
   "cell_type": "code",
   "execution_count": 5,
   "metadata": {},
   "outputs": [
    {
     "name": "stdout",
     "output_type": "stream",
     "text": [
      "Transcribed Text: coombs components to whoosh\n",
      "Extracted Dates: []\n",
      "Extracted Times: []\n"
     ]
    }
   ],
   "source": [
    "# Step 1: Transcribe the audio file\n",
    "transcribed_text = transcribe_audio(audio_file_path)\n",
    "print(f\"Transcribed Text: {transcribed_text}\")\n",
    "\n",
    "# Step 2: Extract dates and times from the transcribed text\n",
    "dates, times = extract_date_time(transcribed_text)\n",
    "print(f\"Extracted Dates: {dates}\")\n",
    "print(f\"Extracted Times: {times}\")"
   ]
  },
  {
   "cell_type": "code",
   "execution_count": null,
   "metadata": {},
   "outputs": [],
   "source": []
  }
 ],
 "metadata": {
  "kernelspec": {
   "display_name": "Python 3",
   "language": "python",
   "name": "python3"
  },
  "language_info": {
   "codemirror_mode": {
    "name": "ipython",
    "version": 3
   },
   "file_extension": ".py",
   "mimetype": "text/x-python",
   "name": "python",
   "nbconvert_exporter": "python",
   "pygments_lexer": "ipython3",
   "version": "3.11.6"
  }
 },
 "nbformat": 4,
 "nbformat_minor": 2
}
